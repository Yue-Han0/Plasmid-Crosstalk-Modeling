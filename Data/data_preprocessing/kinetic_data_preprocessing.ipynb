{
 "cells": [
  {
   "cell_type": "markdown",
   "id": "ed5260e2",
   "metadata": {},
   "source": [
    "# Prepare data for MATLAB"
   ]
  },
  {
   "cell_type": "markdown",
   "id": "4a167420",
   "metadata": {},
   "source": [
    "Aimed to process raw data in raw_data folder to processed data. Works for both updated mRNA and protein data. Notebook contains some old stuff, to process only the updated data, run only section 1, 2.0, and 3. "
   ]
  },
  {
   "cell_type": "markdown",
   "id": "9b7d9500",
   "metadata": {},
   "source": [
    "## 1. Import data and modules"
   ]
  },
  {
   "cell_type": "code",
   "execution_count": 1,
   "id": "04d6be27",
   "metadata": {},
   "outputs": [
    {
     "name": "stdout",
     "output_type": "stream",
     "text": [
      "Requirement already satisfied: xlsxwriter==1.4.3 in /Users/yue_han/opt/anaconda3/lib/python3.8/site-packages (1.4.3)\n",
      "\n",
      "\u001b[1m[\u001b[0m\u001b[34;49mnotice\u001b[0m\u001b[1;39;49m]\u001b[0m\u001b[39;49m A new release of pip is available: \u001b[0m\u001b[31;49m23.0\u001b[0m\u001b[39;49m -> \u001b[0m\u001b[32;49m23.1.2\u001b[0m\n",
      "\u001b[1m[\u001b[0m\u001b[34;49mnotice\u001b[0m\u001b[1;39;49m]\u001b[0m\u001b[39;49m To update, run: \u001b[0m\u001b[32;49mpip install --upgrade pip\u001b[0m\n"
     ]
    }
   ],
   "source": [
    "!pip install xlsxwriter==1.4.3"
   ]
  },
  {
   "cell_type": "code",
   "execution_count": 2,
   "id": "468dbc01",
   "metadata": {},
   "outputs": [],
   "source": [
    "import pandas as pd \n",
    "import numpy as np \n",
    "from datetime import timedelta\n",
    "import datetime\n"
   ]
  },
  {
   "cell_type": "markdown",
   "id": "cf490b86",
   "metadata": {},
   "source": [
    "### 1.1 mRNA data"
   ]
  },
  {
   "cell_type": "markdown",
   "id": "674c3009",
   "metadata": {},
   "source": [
    "**Mean**"
   ]
  },
  {
   "cell_type": "code",
   "execution_count": 3,
   "id": "9d3caba5",
   "metadata": {},
   "outputs": [],
   "source": [
    "# T7 strong \n",
    "updated_T7_strong_avg_FP = pd.read_excel('raw_data/updated_data/T7brocFPLysateFinal.xlsx',sheet_name = 'Subtract BG')\n",
    "updated_T7_strong_avg_AP = pd.read_excel('raw_data/updated_data/T7brocAPLysateFinal.xlsx',sheet_name = 'Subtract BG')\n",
    "# T7 weak \n",
    "updated_T7_weak_avg_FP = pd.read_excel('raw_data/updated_data/T773brocFPLysate.xlsx',sheet_name = 'SubtractBG')\n",
    "updated_T7_weak_avg_AP = pd.read_excel('raw_data/updated_data/T773brocAPLysate.xlsx',sheet_name = 'SubtractBG')\n",
    "# sigma70 strong \n",
    "updated_sigma70_strong_avg_FP = pd.read_excel('raw_data/updated_data/J23119brocFPLysate.xlsx',sheet_name = 'SubtractBG')\n",
    "updated_sigma70_strong_avg_AP = pd.read_excel('raw_data/updated_data/J23119brocAPLysateFinal.xlsx',sheet_name = 'Subtract BG')\n"
   ]
  },
  {
   "cell_type": "markdown",
   "id": "9c8160dc",
   "metadata": {},
   "source": [
    "**Standard deviation**"
   ]
  },
  {
   "cell_type": "code",
   "execution_count": 4,
   "id": "1ccca74f",
   "metadata": {},
   "outputs": [],
   "source": [
    "# T7 strong \n",
    "updated_T7_strong_sd_FP = pd.read_excel('raw_data/updated_data/T7brocFPLysateFinal.xlsx',sheet_name = 'STDEV')\n",
    "updated_T7_strong_sd_AP = pd.read_excel('raw_data/updated_data/T7brocAPLysateFinal.xlsx',sheet_name = 'STDEV')\n",
    "# T7 weak \n",
    "updated_T7_weak_sd_FP = pd.read_excel('raw_data/updated_data/T773brocFPLysate.xlsx',sheet_name = 'STDEV')\n",
    "updated_T7_weak_sd_AP = pd.read_excel('raw_data/updated_data/T773brocAPLysate.xlsx',sheet_name = 'STDEV')\n",
    "# sigma70 strong \n",
    "updated_sigma70_strong_sd_FP = pd.read_excel('raw_data/updated_data/J23119brocFPLysate.xlsx',sheet_name = 'STDEV')\n",
    "updated_sigma70_strong_sd_AP = pd.read_excel('raw_data/updated_data/J23119brocAPLysateFinal.xlsx',sheet_name = 'STDEV')\n"
   ]
  },
  {
   "cell_type": "markdown",
   "id": "ddd41304",
   "metadata": {},
   "source": [
    "### 1.2 Protein data"
   ]
  },
  {
   "cell_type": "markdown",
   "id": "3292b22d",
   "metadata": {},
   "source": [
    "**Mean**"
   ]
  },
  {
   "cell_type": "code",
   "execution_count": 5,
   "id": "b7d6f2b5",
   "metadata": {},
   "outputs": [],
   "source": [
    "# T7 strong \n",
    "PE_updated_T7_strong_avg_FP = pd.read_excel('raw_data/updated_data_PE/PADS4FPLysate.xlsx',sheet_name = 'SubtractBG')\n",
    "PE_updated_T7_strong_avg_AP = pd.read_excel('raw_data/updated_data_PE/PADS4APLysate.xlsx',sheet_name = 'SubtractBG')\n",
    "# T7 weak\n",
    "PE_updated_T7_weak_avg_FP = pd.read_excel('raw_data/updated_data_PE/T7,73FPLysate.xlsx',sheet_name = 'SubtractBG')\n",
    "# PE_updated_T7_weak_avg_AP = pd.read_excel('raw_data/updated_data_PE/T7,73APLysate.xlsx',sheet_name = 'SubtractBG')\n",
    "# sigma70 strong\n",
    "PE_updated_sigma70_strong_avg_FP = pd.read_excel('raw_data/updated_data_PE/J23119FPLysate.xlsx',sheet_name = 'SubtractBG')\n",
    "PE_updated_sigma70_strong_avg_AP = pd.read_excel('raw_data/updated_data_PE/J23119APLysate.xlsx',sheet_name = 'SubtractBG')\n",
    "# sigma70 weak\n",
    "PE_updated_sigma70_weak_avg_FP = pd.read_excel('raw_data/updated_data_PE/J23105FPLysate.xlsx',sheet_name = 'SubtractBG')\n",
    "PE_updated_sigma70_weak_avg_AP = pd.read_excel('raw_data/updated_data_PE/J23105APLysate.xlsx',sheet_name = 'SubtractBG')"
   ]
  },
  {
   "cell_type": "markdown",
   "id": "9822fdcc",
   "metadata": {},
   "source": [
    "**Standard deviation**"
   ]
  },
  {
   "cell_type": "code",
   "execution_count": 6,
   "id": "baaa7e7f",
   "metadata": {},
   "outputs": [],
   "source": [
    "# T7 strong \n",
    "PE_updated_T7_strong_sd_FP = pd.read_excel('raw_data/updated_data_PE/PADS4FPLysate.xlsx',sheet_name = 'STDEV')\n",
    "PE_updated_T7_strong_sd_AP = pd.read_excel('raw_data/updated_data_PE/PADS4APLysate.xlsx',sheet_name = 'STDEV')\n",
    "# T7 weak\n",
    "PE_updated_T7_weak_sd_FP = pd.read_excel('raw_data/updated_data_PE/T7,73FPLysate.xlsx',sheet_name = 'STDEV')\n",
    "# PE_updated_T7_weak_sd_AP = pd.read_excel('raw_data/updated_data_PE/T7,73APLysate.xlsx',sheet_name = 'STDEV')\n",
    "# sigma70 strong\n",
    "PE_updated_sigma70_strong_sd_FP = pd.read_excel('raw_data/updated_data_PE/J23119FPLysate.xlsx',sheet_name = 'STDEV')\n",
    "PE_updated_sigma70_strong_sd_AP = pd.read_excel('raw_data/updated_data_PE/J23119APLysate.xlsx',sheet_name = 'STDEV')\n",
    "# sigma70 weak\n",
    "PE_updated_sigma70_weak_sd_FP = pd.read_excel('raw_data/updated_data_PE/J23105FPLysate.xlsx',sheet_name = 'STDEV')\n",
    "PE_updated_sigma70_weak_sd_AP = pd.read_excel('raw_data/updated_data_PE/J23105APLysate.xlsx',sheet_name = 'STDEV')"
   ]
  },
  {
   "cell_type": "code",
   "execution_count": null,
   "id": "e3ff243a",
   "metadata": {},
   "outputs": [],
   "source": [
    "T7_strong_data_avg = pd.read_excel('raw_data/BrocT7.xlsx',sheet_name = 'Subtract BG')\n",
    "T7_weak_data_avg = pd.read_excel('raw_data/BrocT7,73FPLysateRepeat.xlsx',sheet_name = 'MinusBG')\n",
    "sigma70_data_avg_lowConc = pd.read_excel('raw_data/BrocJ23119.xlsx',sheet_name = 'BGSubtract')\n",
    "sigma70_data_avg_highConc = pd.read_excel('raw_data/J23119FP10-30.xlsx',sheet_name = 'Subtract BG1')"
   ]
  },
  {
   "cell_type": "code",
   "execution_count": null,
   "id": "1194e239",
   "metadata": {},
   "outputs": [],
   "source": [
    "T7_strong_data_stdev = pd.read_excel('raw_data/BrocT7.xlsx',sheet_name = 'STDEV')\n",
    "T7_weak_data_stdev = pd.read_excel('raw_data/BrocT7,73FPLysateRepeat.xlsx',sheet_name = 'STDEV')\n",
    "sigma70_data_stdev_lowConc = pd.read_excel('raw_data/BrocJ23119.xlsx',sheet_name = 'STDEV')\n",
    "sigma70_data_stdev_highConc = pd.read_excel('raw_data/J23119FP10-30.xlsx',sheet_name = 'STDEV')"
   ]
  },
  {
   "cell_type": "code",
   "execution_count": null,
   "id": "30e2b44d",
   "metadata": {},
   "outputs": [],
   "source": [
    "T7_strong_data_avg.head(10)"
   ]
  },
  {
   "cell_type": "code",
   "execution_count": null,
   "id": "f821f42a",
   "metadata": {},
   "outputs": [],
   "source": [
    "test = T7_strong_data_avg['Time'].values[0]\n",
    "print(test)\n",
    "print(type(test))"
   ]
  },
  {
   "cell_type": "markdown",
   "id": "cb7baaf2",
   "metadata": {},
   "source": [
    "## 2. Data preprocessing "
   ]
  },
  {
   "cell_type": "markdown",
   "id": "5d663875",
   "metadata": {},
   "source": [
    "Goals   \n",
    "* Replace time stamps with time(s) \n",
    "* Break these into files formatted as (e.g. T7_strong/T7_weak/sigma70 _no_empty/empty/empty_T70/empty_sigma70), with each containing worksheets ('timeVec','fluorenscence','stdev')\n",
    "    * timeVec should be 1 column, fluorenscence should contain 7 columns (0.5-50 nM), stdev same dimension as fluorenscence   \n",
    "* Leave negative values as are, will remove them in matlab\n",
    "* Special handling of sigma70 required "
   ]
  },
  {
   "cell_type": "markdown",
   "id": "ffa84ef5",
   "metadata": {},
   "source": [
    "### 2.0 Functions for data preprocessing"
   ]
  },
  {
   "cell_type": "code",
   "execution_count": 7,
   "id": "5f4e9c2f",
   "metadata": {},
   "outputs": [],
   "source": [
    "def get_timeVec(df):\n",
    "    timeVec = df['Time'].apply(lambda x:(x.hour*60+x.minute)*60+x.second)\n",
    "    return timeVec"
   ]
  },
  {
   "cell_type": "code",
   "execution_count": 8,
   "id": "af630990",
   "metadata": {},
   "outputs": [],
   "source": [
    "def edit_base_column_list(base_column_list,value):\n",
    "    new_column_list = []\n",
    "    for column_name in base_column_list:\n",
    "        new_column_list.append(str(column_name) + value)\n",
    "    return new_column_list\n"
   ]
  },
  {
   "cell_type": "code",
   "execution_count": 17,
   "id": "e478294c",
   "metadata": {},
   "outputs": [],
   "source": [
    "def save_file(df,stdev,promotor_type,plasmid_comp,timeVec,appendix = '',protein_data = False):\n",
    "    value = dict_code[plasmid_comp]\n",
    "    if plasmid_comp == '_no_empty':\n",
    "        edited_base_column_list = base_column_list\n",
    "    else:\n",
    "        edited_base_column_list = edit_base_column_list(base_column_list,value)\n",
    "    fluorescence_data = df[edited_base_column_list]\n",
    "    stdev_data = stdev[edited_base_column_list]\n",
    "    if not protein_data:\n",
    "        output_file_name = 'processed_data/' + promotor_type + plasmid_comp + appendix + '.xlsx'\n",
    "    else:\n",
    "        output_file_name = 'processed_data/' + 'PE_' + promotor_type + plasmid_comp + appendix + '.xlsx'\n",
    "    with pd.ExcelWriter(output_file_name) as writer:  \n",
    "        timeVec.to_excel(writer, sheet_name='timeVec')\n",
    "        fluorescence_data.to_excel(writer, sheet_name='fluorescence_data')\n",
    "        stdev_data.to_excel(writer, sheet_name='stdev')"
   ]
  },
  {
   "cell_type": "markdown",
   "id": "80d51b75",
   "metadata": {},
   "source": [
    "### 2.1"
   ]
  },
  {
   "cell_type": "markdown",
   "id": "d8576d00",
   "metadata": {},
   "source": [
    "**Replace timestmaps**"
   ]
  },
  {
   "cell_type": "code",
   "execution_count": null,
   "id": "6293eaff",
   "metadata": {},
   "outputs": [],
   "source": [
    "# Crop sigma70 low concentration redundant data \n",
    "print(len(sigma70_data_avg_lowConc))\n",
    "sigma70_data_avg_lowConc = sigma70_data_avg_lowConc.drop(sigma70_data_avg_lowConc.index[np.arange(181,len(sigma70_data_avg_lowConc))])\n",
    "print(len(sigma70_data_avg_lowConc))\n",
    "\n",
    "print(len(sigma70_data_stdev_lowConc))\n",
    "sigma70_data_stdev_lowConc = sigma70_data_stdev_lowConc.drop(sigma70_data_stdev_lowConc.index[np.arange(181,len(sigma70_data_stdev_lowConc))])\n",
    "print(len(sigma70_data_stdev_lowConc))"
   ]
  },
  {
   "cell_type": "code",
   "execution_count": null,
   "id": "00897c18",
   "metadata": {
    "scrolled": true
   },
   "outputs": [],
   "source": [
    "def get_timeVec(df):\n",
    "    timeVec = df['Time'].apply(lambda x:(x.hour*60+x.minute)*60+x.second)\n",
    "    return timeVec"
   ]
  },
  {
   "cell_type": "code",
   "execution_count": null,
   "id": "ec15d182",
   "metadata": {},
   "outputs": [],
   "source": [
    "timeVec_T7_strong = get_timeVec(T7_strong_data_avg)\n",
    "timeVec_T7_weak = get_timeVec(T7_weak_data_avg)\n",
    "timeVec_sigma70_lowConc = get_timeVec(sigma70_data_avg_lowConc)\n",
    "timeVec_sigma70_highConc = get_timeVec(sigma70_data_avg_highConc)"
   ]
  },
  {
   "cell_type": "code",
   "execution_count": null,
   "id": "01e23158",
   "metadata": {
    "scrolled": true
   },
   "outputs": [],
   "source": [
    "print(timeVec_sigma70_lowConc)"
   ]
  },
  {
   "cell_type": "markdown",
   "id": "d6ad73a4",
   "metadata": {},
   "source": [
    "**Assign columnds to new dataframes**"
   ]
  },
  {
   "cell_type": "code",
   "execution_count": null,
   "id": "c9448f88",
   "metadata": {},
   "outputs": [],
   "source": [
    "base_column_list = [0.5,1,2.5,5,10,15,30]\n",
    "dict_code = {'_no_empty':'','_empty':'.1','_empty_T7':'.2','_empty_sigma70':'.3'}\n",
    "plasmid_comp_list = ['_no_empty','_empty','_empty_T7','_empty_sigma70']\n",
    "def edit_base_column_list(base_column_list,value):\n",
    "    new_column_list = []\n",
    "    for column_name in base_column_list:\n",
    "        new_column_list.append(str(column_name) + value)\n",
    "    return new_column_list\n",
    "\n",
    "def save_file(df,promotor_type,plasmid_comp,timeVec,stdev,protein_data=False):\n",
    "    value = dict_code[plasmid_comp]\n",
    "    if plasmid_comp == '_no_empty':\n",
    "        edited_base_column_list = base_column_list\n",
    "    else:\n",
    "        edited_base_column_list = edit_base_column_list(base_column_list,value)\n",
    "    fluorescence_data = df[edited_base_column_list]\n",
    "    stdev_data = stdev[edited_base_column_list]\n",
    "    if not protein_data:\n",
    "        output_file_name =  promotor_type + plasmid_comp + '.xlsx'\n",
    "    else:\n",
    "        output_file_name =  'PE' + promotor_type + plasmid_comp + '.xlsx'\n",
    "    with pd.ExcelWriter(output_file_name) as writer:  \n",
    "        timeVec.to_excel(writer, sheet_name='timeVec')\n",
    "        fluorescence_data.to_excel(writer, sheet_name='fluorescence_data')\n",
    "        stdev_data.to_excel(writer, sheet_name='stdev')\n",
    "\n",
    "\n"
   ]
  },
  {
   "cell_type": "code",
   "execution_count": null,
   "id": "0c542836",
   "metadata": {},
   "outputs": [],
   "source": [
    "for plasmid_comp in plasmid_comp_list:\n",
    "    save_file(T7_strong_data_avg,'T7_strong',plasmid_comp,timeVec_T7_strong,T7_strong_data_stdev)\n",
    "    save_file(T7_weak_data_avg,'T7_weak',plasmid_comp,timeVec_T7_weak,T7_weak_data_stdev)\n"
   ]
  },
  {
   "cell_type": "markdown",
   "id": "340b69b1",
   "metadata": {},
   "source": [
    "**sigma70 time :)**"
   ]
  },
  {
   "cell_type": "code",
   "execution_count": null,
   "id": "4a3ddba2",
   "metadata": {},
   "outputs": [],
   "source": [
    "sigma70_data_avg_highConc.head(10)"
   ]
  },
  {
   "cell_type": "code",
   "execution_count": null,
   "id": "b078c7cd",
   "metadata": {},
   "outputs": [],
   "source": [
    "base_column_list = [10,15,30]\n",
    "\n",
    "def save_file(df,promotor_type,plasmid_comp,timeVec,stdev):\n",
    "    value = dict_code[plasmid_comp]\n",
    "    if plasmid_comp == '_no_empty':\n",
    "        edited_base_column_list = base_column_list\n",
    "    else:\n",
    "        edited_base_column_list = edit_base_column_list(base_column_list,value)\n",
    "    \n",
    "    fluorescence_data = df[edited_base_column_list]\n",
    "    stdev_data = stdev[edited_base_column_list]\n",
    "    output_file_name =  promotor_type + plasmid_comp + '_highConc'+ '.xlsx'\n",
    "    with pd.ExcelWriter(output_file_name) as writer:  \n",
    "        timeVec.to_excel(writer, sheet_name='timeVec')\n",
    "        fluorescence_data.to_excel(writer, sheet_name='fluorescence_data')\n",
    "        stdev_data.to_excel(writer, sheet_name='stdev')\n",
    "\n",
    "for plasmid_comp in plasmid_comp_list:\n",
    "    save_file(sigma70_data_avg_highConc,'sigma70',plasmid_comp,timeVec_sigma70_highConc,sigma70_data_stdev_highConc)\n"
   ]
  },
  {
   "cell_type": "code",
   "execution_count": null,
   "id": "122448c3",
   "metadata": {},
   "outputs": [],
   "source": [
    "sigma70_data_avg_lowConc.head(10)"
   ]
  },
  {
   "cell_type": "code",
   "execution_count": null,
   "id": "a09e9e25",
   "metadata": {},
   "outputs": [],
   "source": [
    "sigma70_data_stdev_lowConc.head(10)"
   ]
  },
  {
   "cell_type": "code",
   "execution_count": null,
   "id": "4b782810",
   "metadata": {},
   "outputs": [],
   "source": [
    "print(sigma70_data_avg_lowConc.columns)\n",
    "print(sigma70_data_stdev_lowConc.columns)"
   ]
  },
  {
   "cell_type": "code",
   "execution_count": null,
   "id": "e1e5c5f6",
   "metadata": {},
   "outputs": [],
   "source": [
    "# base_column_list = ['0.5','1','2.5','5']\n",
    "base_column_list = [0.5,1,2.5,5]\n",
    "dict_code = {'_no_empty':'No Empty','_empty':'Empty','_empty_T7':'Empty T7','_empty_sigma70':'Empty Sigma70'}\n",
    "stdev_dict_code = {'_no_empty':'','_empty':'.1','_empty_T7':'.2','_empty_sigma70':'.3'}\n",
    "plasmid_comp_list = ['_no_empty','_empty','_empty_T7','_empty_sigma70']\n",
    "def edit_base_column_list(base_column_list,value,stdev_value):\n",
    "    new_column_list = []\n",
    "    stdev_new_column_list = []\n",
    "    for column_name in base_column_list:\n",
    "        new_column_list.append(value + ' ' + str(column_name))\n",
    "        if stdev_value == '':\n",
    "            stdev_new_column_list.append(column_name)\n",
    "        else:\n",
    "            stdev_new_column_list.append(str(column_name) + stdev_value)\n",
    "    return new_column_list,stdev_new_column_list\n",
    "\n",
    "def save_file(df,promotor_type,plasmid_comp,timeVec,stdev):\n",
    "    value = dict_code[plasmid_comp]\n",
    "    stdev_value = stdev_dict_code[plasmid_comp]\n",
    "    [edited_base_column_list,stdev_edited_base_column_list] = edit_base_column_list(base_column_list,value,stdev_value)\n",
    "    fluorescence_data = df[edited_base_column_list]\n",
    "    stdev_data = stdev[stdev_edited_base_column_list]\n",
    "    output_file_name =  promotor_type + plasmid_comp + '_lowConc' + '.xlsx'\n",
    "    with pd.ExcelWriter(output_file_name) as writer:  \n",
    "        timeVec.to_excel(writer, sheet_name='timeVec')\n",
    "        fluorescence_data.to_excel(writer, sheet_name='fluorescence_data')\n",
    "        stdev_data.to_excel(writer, sheet_name='stdev')"
   ]
  },
  {
   "cell_type": "code",
   "execution_count": null,
   "id": "4fe5de9d",
   "metadata": {},
   "outputs": [],
   "source": [
    "for plasmid_comp in plasmid_comp_list:\n",
    "    save_file(sigma70_data_avg_lowConc,'sigma70',plasmid_comp,timeVec_sigma70_lowConc,sigma70_data_stdev_lowConc)\n"
   ]
  },
  {
   "cell_type": "markdown",
   "id": "7fdc6942",
   "metadata": {},
   "source": [
    "### 2.2 Remove nan values "
   ]
  },
  {
   "cell_type": "code",
   "execution_count": 10,
   "id": "a8e722c1",
   "metadata": {},
   "outputs": [],
   "source": [
    "def remove_extra_timepoint(dataframe):\n",
    "    # Use a loop to find the index after which the rows need to be dropped\n",
    "    remove_idx_list = [] \n",
    "    for idx,row in dataframe.iterrows():\n",
    "        # Remove if NaT or NaN value \n",
    "        if pd.isnull(row['Time']):\n",
    "            remove_idx_list.append(idx)\n",
    "        # Remove if 00:00:00 but not in the first row \n",
    "        elif row['Time'].hour == 0 and row['Time'].minute == 0 and row['Time'].second == 0 and idx != 0: \n",
    "            remove_idx_list.append(idx)\n",
    "        # Remove if time larger than 6 hours and 1 minute \n",
    "        elif (row['Time'].hour >= 6 and row['Time'].minute >= 1) or row['Time'].hour > 6:\n",
    "            remove_idx_list.append(idx)\n",
    "    dataframe = dataframe.drop(remove_idx_list)\n",
    "    \n",
    "    return dataframe "
   ]
  },
  {
   "cell_type": "code",
   "execution_count": 20,
   "id": "1430dc2b",
   "metadata": {},
   "outputs": [],
   "source": [
    "# T7 strong \n",
    "PE_updated_T7_strong_avg_AP = remove_extra_timepoint(PE_updated_T7_strong_avg_AP)\n",
    "PE_updated_T7_strong_avg_FP = remove_extra_timepoint(PE_updated_T7_strong_avg_FP)\n",
    "\n",
    "PE_updated_T7_strong_sd_AP = remove_extra_timepoint(PE_updated_T7_strong_sd_AP)\n",
    "PE_updated_T7_strong_sd_FP = remove_extra_timepoint(PE_updated_T7_strong_sd_FP)\n",
    "\n",
    "# T7 weak \n",
    "# PE_updated_T7_weak_avg_AP = remove_extra_timepoint(PE_updated_T7_weak_avg_AP)\n",
    "PE_updated_T7_weak_avg_FP = remove_extra_timepoint(PE_updated_T7_weak_avg_FP)\n",
    "\n",
    "# PE_updated_T7_weak_avg_AP = remove_extra_timepoint(PE_updated_T7_weak_avg_AP)\n",
    "PE_updated_T7_weak_sd_FP = remove_extra_timepoint(PE_updated_T7_weak_sd_FP)\n",
    "\n",
    "# sigma70 strong \n",
    "PE_updated_sigma70_strong_avg_AP = remove_extra_timepoint(PE_updated_sigma70_strong_avg_AP)\n",
    "PE_updated_sigma70_strong_avg_FP = remove_extra_timepoint(PE_updated_sigma70_strong_avg_FP)\n",
    "\n",
    "PE_updated_sigma70_strong_sd_AP = remove_extra_timepoint(PE_updated_sigma70_strong_sd_AP)\n",
    "PE_updated_sigma70_strong_sd_FP = remove_extra_timepoint(PE_updated_sigma70_strong_sd_FP)\n",
    "\n",
    "# sigma70 weak \n",
    "PE_updated_sigma70_weak_avg_AP = remove_extra_timepoint(PE_updated_sigma70_weak_avg_AP)\n",
    "PE_updated_sigma70_weak_avg_FP = remove_extra_timepoint(PE_updated_sigma70_weak_avg_FP)\n",
    "\n",
    "PE_updated_sigma70_weak_sd_AP = remove_extra_timepoint(PE_updated_sigma70_weak_sd_AP)\n",
    "PE_updated_sigma70_weak_sd_FP = remove_extra_timepoint(PE_updated_sigma70_weak_sd_FP)"
   ]
  },
  {
   "cell_type": "markdown",
   "id": "f80bfc17",
   "metadata": {},
   "source": [
    "## 3. Data organization for the updated data"
   ]
  },
  {
   "cell_type": "code",
   "execution_count": 12,
   "id": "9a6053e5",
   "metadata": {},
   "outputs": [],
   "source": [
    "base_column_list = [0.5,1,2.5,5,10,15,30]\n",
    "dict_code = {'_no_empty':'','_empty':'.1','_empty_T7':'.2','_empty_sigma70':'.3'}\n",
    "plasmid_comp_list = ['_no_empty','_empty','_empty_T7','_empty_sigma70']"
   ]
  },
  {
   "cell_type": "markdown",
   "id": "2b697f87",
   "metadata": {},
   "source": [
    "### 3.1 get TimeVec "
   ]
  },
  {
   "cell_type": "markdown",
   "id": "ebc93f24",
   "metadata": {},
   "source": [
    "**mRNA data**"
   ]
  },
  {
   "cell_type": "code",
   "execution_count": 13,
   "id": "2be21c97",
   "metadata": {},
   "outputs": [],
   "source": [
    "# T7 strong \n",
    "updated_T7_strong_timeVec_AP = get_timeVec(updated_T7_strong_avg_AP)\n",
    "updated_T7_strong_timeVec_FP = get_timeVec(updated_T7_strong_avg_FP)\n",
    "# T7 weak \n",
    "updated_T7_weak_timeVec_AP = get_timeVec(updated_T7_weak_avg_AP)\n",
    "updated_T7_weak_timeVec_FP = get_timeVec(updated_T7_weak_avg_FP)\n",
    "# sigma70 strong \n",
    "updated_sigma70_strong_timeVec_FP = get_timeVec(updated_sigma70_strong_avg_FP)\n",
    "updated_sigma70_strong_timeVec_AP = get_timeVec(updated_sigma70_strong_avg_AP)\n"
   ]
  },
  {
   "cell_type": "markdown",
   "id": "578fd4df",
   "metadata": {},
   "source": [
    "**Protein data**"
   ]
  },
  {
   "cell_type": "code",
   "execution_count": 14,
   "id": "c0f9e745",
   "metadata": {},
   "outputs": [],
   "source": [
    "# T7 strong\n",
    "PE_updated_T7_strong_timeVec_AP = get_timeVec(PE_updated_T7_strong_avg_AP)\n",
    "PE_updated_T7_strong_timeVec_FP = get_timeVec(PE_updated_T7_strong_avg_FP)\n",
    "# T7 weak\n",
    "# PE_updated_T7_weak_timeVec_AP = get_timeVec(PE_updated_T7_weak_avg_AP)\n",
    "PE_updated_T7_weak_timeVec_FP = get_timeVec(PE_updated_T7_weak_avg_FP)\n",
    "# sigma70 strong \n",
    "PE_updated_sigma70_strong_timeVec_AP = get_timeVec(PE_updated_sigma70_strong_avg_AP)\n",
    "PE_updated_sigma70_strong_timeVec_FP = get_timeVec(PE_updated_sigma70_strong_avg_FP)\n",
    "# sigma70 weak \n",
    "PE_updated_sigma70_weak_timeVec_AP = get_timeVec(PE_updated_sigma70_weak_avg_AP)\n",
    "PE_updated_sigma70_weak_timeVec_FP = get_timeVec(PE_updated_sigma70_weak_avg_FP)"
   ]
  },
  {
   "cell_type": "markdown",
   "id": "5a960f1c",
   "metadata": {},
   "source": [
    "### 3.2 Process and save "
   ]
  },
  {
   "cell_type": "markdown",
   "id": "ca5f538e",
   "metadata": {},
   "source": [
    "**mRNA data**"
   ]
  },
  {
   "cell_type": "code",
   "execution_count": 19,
   "id": "34f12222",
   "metadata": {},
   "outputs": [],
   "source": [
    "\n",
    "for plasmid_comp in plasmid_comp_list:\n",
    "    # T7 strong\n",
    "    save_file(updated_T7_strong_avg_AP,updated_T7_strong_sd_AP,'T7_strong',plasmid_comp,updated_T7_strong_timeVec_AP,'_updated_AP')\n",
    "    save_file(updated_T7_strong_avg_FP,updated_T7_strong_sd_FP,'T7_strong',plasmid_comp,updated_T7_strong_timeVec_FP,'_updated_FP')\n",
    "    # T7 weak \n",
    "    save_file(updated_T7_weak_avg_AP,updated_T7_weak_sd_AP,'T7_weak',plasmid_comp,updated_T7_weak_timeVec_AP,'_updated_AP')\n",
    "    save_file(updated_T7_weak_avg_FP,updated_T7_weak_sd_FP,'T7_weak',plasmid_comp,updated_T7_weak_timeVec_FP,'_updated_FP')\n",
    "    # sigma70 strong \n",
    "    save_file(updated_sigma70_strong_avg_AP,updated_sigma70_strong_sd_AP,'sigma70_strong',plasmid_comp,updated_sigma70_strong_timeVec_AP,'_updated_AP')\n",
    "    save_file(updated_sigma70_strong_avg_FP,updated_sigma70_strong_sd_FP,'sigma70_strong',plasmid_comp,updated_sigma70_strong_timeVec_FP,'_updated_FP')"
   ]
  },
  {
   "cell_type": "markdown",
   "id": "7eda8065",
   "metadata": {},
   "source": [
    "**Protein data**"
   ]
  },
  {
   "cell_type": "code",
   "execution_count": null,
   "id": "d325fba6",
   "metadata": {},
   "outputs": [],
   "source": []
  },
  {
   "cell_type": "code",
   "execution_count": null,
   "id": "445d76d7",
   "metadata": {},
   "outputs": [],
   "source": []
  },
  {
   "cell_type": "code",
   "execution_count": 22,
   "id": "b418f9a7",
   "metadata": {},
   "outputs": [],
   "source": [
    "for plasmid_comp in plasmid_comp_list:\n",
    "    # T7 strong\n",
    "    save_file(PE_updated_T7_strong_avg_AP,PE_updated_T7_strong_sd_AP,'T7_strong',plasmid_comp,\\\n",
    "              PE_updated_T7_strong_timeVec_AP,'_updated_AP',protein_data=True)\n",
    "    save_file(PE_updated_T7_strong_avg_FP,PE_updated_T7_strong_sd_FP,'T7_strong',plasmid_comp,\\\n",
    "              PE_updated_T7_strong_timeVec_FP,'_updated_FP',protein_data=True)\n",
    "    # T7 weak \n",
    "#     save_file(PE_updated_T7_weak_avg_AP,PE_updated_T7_weak_sd_AP,'T7_weak',plasmid_comp,\\\n",
    "#               PE_updated_T7_weak_timeVec_AP,'_updated_AP',protein_data=True)\n",
    "    save_file(PE_updated_T7_weak_avg_FP,PE_updated_T7_weak_sd_FP,'T7_weak',plasmid_comp,\\\n",
    "              PE_updated_T7_weak_timeVec_FP,'_updated_FP',protein_data=True)\n",
    "    # sigma70 strong \n",
    "    save_file(PE_updated_sigma70_strong_avg_AP,PE_updated_sigma70_strong_sd_AP,'sigma70_strong',plasmid_comp,\\\n",
    "              PE_updated_sigma70_strong_timeVec_AP,'_updated_AP',protein_data=True)\n",
    "    save_file(PE_updated_sigma70_strong_avg_FP,PE_updated_sigma70_strong_sd_FP,'sigma70_strong',plasmid_comp,\\\n",
    "              PE_updated_sigma70_strong_timeVec_FP,'_updated_FP',protein_data=True)\n",
    "    # sigma70 weak\n",
    "    save_file(PE_updated_sigma70_weak_avg_AP,PE_updated_sigma70_weak_sd_AP,'sigma70_weak',plasmid_comp,\\\n",
    "              PE_updated_sigma70_weak_timeVec_AP,'_updated_AP',protein_data=True)\n",
    "    save_file(PE_updated_sigma70_weak_avg_FP,PE_updated_sigma70_weak_sd_FP,'sigma70_weak',plasmid_comp,\\\n",
    "              PE_updated_sigma70_weak_timeVec_FP,'_updated_FP',protein_data=True)"
   ]
  },
  {
   "cell_type": "code",
   "execution_count": null,
   "id": "bc3c23c4",
   "metadata": {},
   "outputs": [],
   "source": []
  }
 ],
 "metadata": {
  "kernelspec": {
   "display_name": "Python 3",
   "language": "python",
   "name": "python3"
  },
  "language_info": {
   "codemirror_mode": {
    "name": "ipython",
    "version": 3
   },
   "file_extension": ".py",
   "mimetype": "text/x-python",
   "name": "python",
   "nbconvert_exporter": "python",
   "pygments_lexer": "ipython3",
   "version": "3.8.8"
  }
 },
 "nbformat": 4,
 "nbformat_minor": 5
}
