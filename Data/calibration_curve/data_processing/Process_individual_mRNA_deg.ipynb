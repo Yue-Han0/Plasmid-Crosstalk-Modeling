{
 "cells": [
  {
   "cell_type": "markdown",
   "id": "7f16ac28",
   "metadata": {},
   "source": [
    "## 1. Import modules & Data"
   ]
  },
  {
   "cell_type": "code",
   "execution_count": 1,
   "id": "74edd818",
   "metadata": {},
   "outputs": [],
   "source": [
    "import pandas as pd \n",
    "import sys\n",
    "import openpyxl\n",
    "import string"
   ]
  },
  {
   "cell_type": "code",
   "execution_count": 2,
   "id": "1750bbee",
   "metadata": {},
   "outputs": [],
   "source": [
    "# Load the workbook\n",
    "excel_file = openpyxl.load_workbook('/Users/yue/Documents/Plasmid_crosstalk_modeling-/raw_data/RNAcurvehigherconc.xlsx', data_only=True)\n",
    "\n",
    "# Get the worksheets \n",
    "Gain70_worksheet = excel_file['Gain 70']\n",
    "Gain75_worksheet = excel_file['Gain 75']\n",
    "raw_data_worksheet = excel_file['Plate 1 - Sheet1']\n",
    "\n",
    "# Load workbooks using pandas \n",
    "degradation_data_updated_gain70 = pd.read_excel('/Users/yue/Documents/Plasmid_crosstalk_modeling-/raw_data/RNAcurvehigherconc.xlsx',sheet_name = 'Gain 70')\n",
    "degradation_data_updated_gain75 = pd.read_excel('/Users/yue/Documents/Plasmid_crosstalk_modeling-/raw_data/RNAcurvehigherconc.xlsx',sheet_name = 'Gain 75')"
   ]
  },
  {
   "cell_type": "markdown",
   "id": "41dbbbc8",
   "metadata": {},
   "source": [
    "## 2. Extract data and organize into time-course for individual replicates"
   ]
  },
  {
   "cell_type": "markdown",
   "id": "6bf6b3a2-917f-4206-97fd-df2980c117ae",
   "metadata": {},
   "source": [
    "### 2.0 Define universal variables"
   ]
  },
  {
   "cell_type": "code",
   "execution_count": 3,
   "id": "8f881c98-e0c9-40a2-8c80-9ed3b0fa147c",
   "metadata": {},
   "outputs": [],
   "source": [
    "conc_vec = [10,50,100,500,1000,5000,10000,20000]"
   ]
  },
  {
   "cell_type": "markdown",
   "id": "74923887-a54b-4f77-950c-fbed917d69c6",
   "metadata": {},
   "source": [
    "### 2.1 Replace timestamp with timeVec"
   ]
  },
  {
   "cell_type": "code",
   "execution_count": 4,
   "id": "a6335126-d2a1-47f3-ae76-1e328f810854",
   "metadata": {},
   "outputs": [],
   "source": [
    "def get_timeVec(df):\n",
    "    timeVec = df['Time'].apply(lambda x:(x.hour*60+x.minute)*60+x.second)\n",
    "    return timeVec"
   ]
  },
  {
   "cell_type": "code",
   "execution_count": 5,
   "id": "0319d3d7-41c5-4192-b308-6181fb218f9e",
   "metadata": {},
   "outputs": [],
   "source": [
    "timeVec_gain70 = get_timeVec(degradation_data_updated_gain70)\n",
    "timeVec_gain75 = get_timeVec(degradation_data_updated_gain75)"
   ]
  },
  {
   "cell_type": "markdown",
   "id": "54dbde5c-c6f6-4a88-a291-a8d8e15e33ed",
   "metadata": {},
   "source": [
    "### 2.2 Find raw data from the other worksheet "
   ]
  },
  {
   "cell_type": "markdown",
   "id": "d3090844-6ba4-4911-b5dc-83ded7b35f59",
   "metadata": {},
   "source": [
    "**Find the last row**"
   ]
  },
  {
   "cell_type": "code",
   "execution_count": 6,
   "id": "0b3f22e2-a343-4f87-b78d-44bd35450b51",
   "metadata": {},
   "outputs": [
    {
     "name": "stdout",
     "output_type": "stream",
     "text": [
      "The last non-empty row is: 47\n"
     ]
    }
   ],
   "source": [
    "# Initialize the last row variable\n",
    "last_row = 0\n",
    "\n",
    "# Loop through the rows in reverse order\n",
    "for row in reversed(range(1, Gain70_worksheet.max_row + 1)):\n",
    "    for cell in Gain70_worksheet[row]:\n",
    "        if cell.value is not None and str(cell.value).strip() != \"\":\n",
    "            last_row = row\n",
    "            break\n",
    "    if last_row != 0:\n",
    "        break\n",
    "\n",
    "print(f\"The last non-empty row is: {last_row}\")"
   ]
  },
  {
   "cell_type": "code",
   "execution_count": 7,
   "id": "7109b60e-c3d6-486e-b232-c8ad185d13d5",
   "metadata": {},
   "outputs": [],
   "source": [
    "start_row_idx = 2\n",
    "end_row_idx = last_row + 1 "
   ]
  },
  {
   "cell_type": "markdown",
   "id": "ca7a66c0-c7b2-4a27-8bba-df38dd076359",
   "metadata": {},
   "source": [
    "**Hardcode columns and start/end row for the two gains**"
   ]
  },
  {
   "cell_type": "code",
   "execution_count": 8,
   "id": "617d7b62-1d19-4fd0-a338-a0c32689e071",
   "metadata": {},
   "outputs": [],
   "source": [
    "raw_data_columns_gain_70 = []\n",
    "raw_data_columns_gain_75 = []\n",
    "raw_data_row_gain_70_start_idx = []\n",
    "raw_data_row_gain_70_end_idx = []\n",
    "raw_data_row_gain_75_start_idx = []\n",
    "raw_data_row_gain_75_end_idx = [] \n",
    "\n",
    "# Get column names for gain 70 & 75\n",
    "start_1 = string.ascii_uppercase.index('A')\n",
    "end_1 = string.ascii_uppercase.index('R') + 1\n",
    "for letter in string.ascii_uppercase[start_1:end_1]:\n",
    "        # Column name\n",
    "    column_string = 'C' + letter\n",
    "    raw_data_columns_gain_70.append(column_string)\n",
    "    raw_data_columns_gain_75.append(column_string)\n",
    "        # Row start and end indices \n",
    "    raw_data_row_gain_70_start_idx.append(136)\n",
    "    raw_data_row_gain_70_end_idx.append(181)\n",
    "    raw_data_row_gain_75_start_idx.append(336)\n",
    "    raw_data_row_gain_75_end_idx.append(381)\n",
    "\n",
    "start_2 = string.ascii_uppercase.index('G')\n",
    "end_2 = string.ascii_uppercase.index('L') + 1\n",
    "for letter in string.ascii_uppercase[start_2:end_2]:\n",
    "    raw_data_columns_gain_70.append(letter)\n",
    "    raw_data_row_gain_70_start_idx.append(186)\n",
    "    raw_data_row_gain_70_end_idx.append(231)\n",
    "    \n",
    "start_2 = string.ascii_uppercase.index('G')\n",
    "end_2 = string.ascii_uppercase.index('I') + 1\n",
    "for letter in string.ascii_uppercase[start_2:end_2]:\n",
    "    raw_data_columns_gain_75.append(letter)\n",
    "    raw_data_row_gain_75_start_idx.append(386)\n",
    "    raw_data_row_gain_75_end_idx.append(431)\n"
   ]
  },
  {
   "cell_type": "markdown",
   "id": "2838b35e-0879-427f-acf6-b3c4bc9152e7",
   "metadata": {},
   "source": [
    "**Organize column names**"
   ]
  },
  {
   "cell_type": "code",
   "execution_count": 9,
   "id": "32fce3a3-d77d-4a58-b3d1-60d78595216b",
   "metadata": {},
   "outputs": [],
   "source": [
    "column_name_list_gain_70 = []\n",
    "column_name_list_gain_75 = []\n",
    "for conc in conc_vec:\n",
    "    for rep in range(1,4):\n",
    "        column_name_list_gain_70.append(str(conc) + '_' + str(rep))\n",
    "\n",
    "for conc in conc_vec[:-1]:\n",
    "    for rep in range(1,4):\n",
    "        column_name_list_gain_75.append(str(conc) + '_' + str(rep))"
   ]
  },
  {
   "cell_type": "markdown",
   "id": "ed0938f2-1f45-4b30-9bce-7d59c3acc9f0",
   "metadata": {},
   "source": [
    "#### 2.3 Compile raw data into dataframe"
   ]
  },
  {
   "cell_type": "code",
   "execution_count": 10,
   "id": "b0e6a559-e512-4b2e-84ae-2bb98f787b28",
   "metadata": {},
   "outputs": [],
   "source": [
    "\n",
    "# # Create a dictionary to hold the data for each column\n",
    "# data = {col: [] for col in column_name_list_gain_70}\n",
    "\n",
    "\n",
    "# # Loop through and retrieve data\n",
    "# for idx,col in enumerate(raw_data_columns_gain_70):\n",
    "#     start_row = raw_data_row_gain_70_start_idx[idx]\n",
    "#     end_row = raw_data_row_gain_70_end_idx[idx]\n",
    "#     col_name = column_name_list_gain_70[idx]\n",
    "#     bg_row_idx = 2\n",
    "#     for row in range(start_row, end_row + 1):\n",
    "#         cell_value = raw_data_worksheet[f'{col}{row}'].value\n",
    "#         bg_value = Gain70_worksheet[f'K{bg_row_idx}'].value\n",
    "#         bg_row_idx += 1\n",
    "#         # Subtract background \n",
    "#         data[col_name].append(cell_value - bg_value)\n"
   ]
  },
  {
   "cell_type": "code",
   "execution_count": 11,
   "id": "f861da5a-dfc7-4666-8eeb-c33df88d980f",
   "metadata": {},
   "outputs": [
    {
     "ename": "TypeError",
     "evalue": "unsupported operand type(s) for -: 'int' and 'NoneType'",
     "output_type": "error",
     "traceback": [
      "\u001b[0;31m---------------------------------------------------------------------------\u001b[0m",
      "\u001b[0;31mTypeError\u001b[0m                                 Traceback (most recent call last)",
      "Cell \u001b[0;32mIn[11], line 15\u001b[0m\n\u001b[1;32m     13\u001b[0m bg_row_idx \u001b[38;5;241m+\u001b[39m\u001b[38;5;241m=\u001b[39m \u001b[38;5;241m1\u001b[39m\n\u001b[1;32m     14\u001b[0m \u001b[38;5;66;03m# Subtract background \u001b[39;00m\n\u001b[0;32m---> 15\u001b[0m data[col_name]\u001b[38;5;241m.\u001b[39mappend(\u001b[43mcell_value\u001b[49m\u001b[43m \u001b[49m\u001b[38;5;241;43m-\u001b[39;49m\u001b[43m \u001b[49m\u001b[43mbg_value\u001b[49m)\n",
      "\u001b[0;31mTypeError\u001b[0m: unsupported operand type(s) for -: 'int' and 'NoneType'"
     ]
    }
   ],
   "source": [
    "\n",
    "# Create a dictionary to hold the data for each column\n",
    "data = {col: [] for col in column_name_list_gain_75}\n",
    "\n",
    "# Loop through and retrieve data\n",
    "for idx,col in enumerate(raw_data_columns_gain_75):\n",
    "    start_row = raw_data_row_gain_75_start_idx[idx]\n",
    "    end_row = raw_data_row_gain_75_end_idx[idx]\n",
    "    col_name = column_name_list_gain_75[idx]\n",
    "    bg_row_idx = 2\n",
    "    for row in range(start_row, end_row + 1):\n",
    "        cell_value = raw_data_worksheet[f'{col}{row}'].value\n",
    "        bg_value = Gain70_worksheet[f'J{bg_row_idx}'].value\n",
    "        bg_row_idx += 1\n",
    "        # Subtract background \n",
    "        data[col_name].append(cell_value - bg_value)"
   ]
  },
  {
   "cell_type": "code",
   "execution_count": null,
   "id": "fc2bbf46-9a21-40d3-9590-06dfcb15bcf3",
   "metadata": {},
   "outputs": [],
   "source": [
    "df = pd.DataFrame(data)"
   ]
  },
  {
   "cell_type": "code",
   "execution_count": null,
   "id": "cb90223c-a81c-4b9d-b23b-1815d4f7ab40",
   "metadata": {},
   "outputs": [],
   "source": [
    "output_file_name_updated70 = '/Users/yue/Documents/Plasmid_crosstalk_modeling-/processed_data/degradation_curve_gain_75.xlsx'\n",
    "with pd.ExcelWriter(output_file_name_updated75, mode='a', engine='openpyxl') as writer:  \n",
    "        df.to_excel(writer,sheet_name='single_sample_deg')"
   ]
  },
  {
   "cell_type": "code",
   "execution_count": null,
   "id": "794f7857-a342-4b8a-82aa-8da5e3fbba18",
   "metadata": {},
   "outputs": [],
   "source": [
    "df"
   ]
  },
  {
   "cell_type": "code",
   "execution_count": null,
   "id": "6c77a5c7-2557-4ecd-8628-ba296a7345a0",
   "metadata": {},
   "outputs": [],
   "source": []
  }
 ],
 "metadata": {
  "kernelspec": {
   "display_name": "Python 3",
   "language": "python",
   "name": "python3"
  },
  "language_info": {
   "codemirror_mode": {
    "name": "ipython",
    "version": 3
   },
   "file_extension": ".py",
   "mimetype": "text/x-python",
   "name": "python",
   "nbconvert_exporter": "python",
   "pygments_lexer": "ipython3",
   "version": "3.8.8"
  }
 },
 "nbformat": 4,
 "nbformat_minor": 5
}
